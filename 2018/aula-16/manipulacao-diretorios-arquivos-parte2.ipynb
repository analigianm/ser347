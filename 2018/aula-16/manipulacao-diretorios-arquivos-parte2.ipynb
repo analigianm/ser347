{
 "cells": [
  {
   "cell_type": "markdown",
   "metadata": {},
   "source": [
    "# <span style=\"color:#336699\">SER-347 - Introdução à Programação para Sensoriamento Remoto</span>\n",
    "<hr style=\"border:2px solid #0077b9;\">\n",
    "\n",
    "# <span style=\"color:#336699\">Aula Manipulacao de Diretórios e Arquivos</span>\n",
    "\n",
    "\n",
    "[<img src=\"https://www.python.org/static/community_logos/python-logo-master-v3-TM.png\" alt=\"library for use commands of system in Python\" width=\"150\" align=\"right\">](https://docs.python.org/3/library/os.html)\n",
    "\n",
    "\n",
    "- Fabiano Morelli\n",
    "- Gilberto Ribeiro de Queiroz\n",
    "- Thales Sehn Körting\n",
    "\n",
    "<span style=\"color:#336699; font-size:1.5em;\">\n",
    "</span>"
   ]
  },
  {
   "cell_type": "markdown",
   "metadata": {},
   "source": [
    "# 1. Visão geral do Módulo OS\n",
    "<hr style=\"border:1px solid #0077b9;\">\n",
    "\n",
    "\n",
    "O módulo OS é uma interface que permite interagir com o sistema operacional executando serviços ou operações básicas,  sem a necessidade de comandos específicos das diferentes plataformas ou tipos de _Sistema Operacional_ e suas muitas versões. \n",
    "\n",
    "Um exemplo básico de aplicação é a definição e mudança do diretório de trabalho, ou ainda ações para criar, renomear ou apagar diretórios.\n",
    "\n"
   ]
  },
  {
   "cell_type": "code",
   "execution_count": null,
   "metadata": {
    "collapsed": true
   },
   "outputs": [],
   "source": [
    "# Importação dos módulos necessários para esta aula\n",
    "import os"
   ]
  },
  {
   "cell_type": "code",
   "execution_count": null,
   "metadata": {
    "collapsed": true
   },
   "outputs": [],
   "source": [
    "help(os)"
   ]
  },
  {
   "cell_type": "markdown",
   "metadata": {},
   "source": [
    "## Definição da Pasta de Trabalho - Work Directory\n",
    "\n",
    "A maioria dos métodos apresentados a seguir utilizam o caminho completo para endereçar um arquivo ou mesmo o diretório. Para facilitar as operações, uma boa opção é definir o diretório de trabalho como sendo o local onde estão os arquivos a serem manipulados.\n",
    "\n",
    "Criar um diretório de trabalho temporário para cada instância do programa rodando, também é uma boa prática pois arquivos temporários podem ser criados independente de quantas instâncias estejam rodando simultâneamente.\n",
    "\n",
    "O método **getcwd()** não espera receber nenhum parâmetro e retorna uma string com a indicação do caminho completo do diretório de trabalho atualmente ativo, conforme as definições do sistema operacional corrente. Estas definições referentes as _Variáveis de Ambiente_ do  _Sistema Operacional_ podem ser modificadas por meio do módulo **_SYS_** que não será tratado nestas aulas.  "
   ]
  },
  {
   "cell_type": "code",
   "execution_count": null,
   "metadata": {},
   "outputs": [],
   "source": [
    "print(os.getcwd())\n",
    "# Exemplo da resposta do comando\n",
    "# '/Users/fabianomorelli/Documents'"
   ]
  },
  {
   "cell_type": "markdown",
   "metadata": {},
   "source": [
    "Para mudar o diretorio de trabalho utilizando o método **chdir** passando como parâmetro uma string do novo _caminho completo_. \n",
    "\n",
    "## Exemplo:"
   ]
  },
  {
   "cell_type": "code",
   "execution_count": null,
   "metadata": {},
   "outputs": [],
   "source": [
    "os.chdir(\"/Users/fabianomorelli/ownCloud/notebooks/dados_exemplo/\")\n",
    "# os.chdir(r\"c:\\dados\\aula_07\")\n",
    "os.getcwd()\n",
    "# Exemplo da resposta do comando\n",
    "# '/Users/fabianomorelli/Documents/dados_exemplo'"
   ]
  },
  {
   "cell_type": "markdown",
   "metadata": {},
   "source": [
    "<hr>\n",
    "## Listar o conteúdo do Diretórios\n",
    "\n",
    "A listagem do conteúdo de um diretório pode ser obtida por meio do método **listdir** que espera um caminho completo e devolve uma lista.\n",
    "\n",
    "## Exemplos destes métodos:"
   ]
  },
  {
   "cell_type": "code",
   "execution_count": null,
   "metadata": {},
   "outputs": [],
   "source": [
    "os.listdir(\"/Users/fabianomorelli/ownCloud/notebooks/dados_exemplo/\")\n",
    "# os.listdir(os.getcwd())\n",
    "# Exemplo da resposta do comando\n",
    "# ['.DS_Store', 'foc_sev_20161010.bin', 'foc_sev_20161010.hdr']"
   ]
  },
  {
   "cell_type": "markdown",
   "metadata": {},
   "source": [
    "\n",
    "<hr>\n",
    "\n",
    "## Ferramentas de \"Caminho\" - Módulo **_path_**\n",
    "\n",
    "Quando estamos depurando o programa ou preparando para que deixe de ser um script específico e ganhe a possibilidade de ser reutilizado em outros computadores, precisamos nos preocupar com os caminhos dos arquivos e diretórios. Para facilitar o desenvolvimento e deixar o código independente do Sistema Operacional o módulo **_path_** possui uma grande variedade de métodos para auxiliar nestas atividades.\n",
    "\n",
    "Os problemas de endereçamento de arquivos e diretórios acontecem sempre quando trocamos entre windows e 'Unix'. \n",
    "\n",
    "No exemplo unix o endereço do arquivo pode ser representado pala string:\n",
    "'/Users/fabianomorelli/Documents/dados_exemplo/foc_sev_20161010.bin'\n",
    "\n",
    "Este mesmo endereço no windows pode ser representado pela seguinte string:\n",
    "'c:\\fabianomorelli\\Documents\\dados_exemplo\\foc_sev_20161010.bin'\n",
    "\n",
    "Note que existe uma diferença na direção da barra separadora das pastas além do fato que em windows temos a representação da unidade de disco que está sendo utilizada para armazenar o arquivo.\n",
    "\n",
    "## Exemplo de métodos\n",
    "\n",
    "**_abspath_** = Utliza o caminho do diretorio de trabalho para criar uma string com o caminho completo até o arquivo que foi referenciado.\n",
    "\n",
    "**_join_** = Junta dois ou mais partes de um caminho inserindo o separador quando nessesário, pois nunca é adicionado o separador final, pois o método não diferencia se estamos informando o nome de um diretório ou de um arquivo. Para forçar a formação da string terminada com o separador o último elemento indicado deve ser uma string vazia.\n",
    "\n",
    "**_split_** = Método que corta a cadeia de caracteres em duas partes. Normalmente a primeira parte representada pelo caminho com todos os diretórios e a segunda parte que representa o nome do arquivo ou a última parte da string sem separador.\n",
    "\n",
    "**_splitext_** = É um método que também separa a cadeia de caracteres em duas partes, sendo a primeira parte o caminho completo e nome do arquivo, seguido pela extensão do arquivo na segunda parte."
   ]
  },
  {
   "cell_type": "code",
   "execution_count": null,
   "metadata": {
    "collapsed": true
   },
   "outputs": [],
   "source": [
    "# Exemplo da utilização do método abspath\n",
    "# utilizar o nome de um dos arquivos retonados no comando anterior,\n",
    "# para criar uma variável com o caminho completo do arquivo.\n",
    "\n",
    "file = os.path.abspath('foc_sev_20161010.bin')"
   ]
  },
  {
   "cell_type": "code",
   "execution_count": null,
   "metadata": {},
   "outputs": [],
   "source": [
    "# Verificação do conteúdo da variável criada\n",
    "print(file)"
   ]
  },
  {
   "cell_type": "code",
   "execution_count": null,
   "metadata": {
    "collapsed": true
   },
   "outputs": [],
   "source": [
    "# Criação de uma variável para remover apenas o nome do arquivo da variável file\n",
    "# Notar que neste exemplo está sendo utilizado o método split de uma string e não do módulo path\n",
    "\n",
    "nome = file.split(\"/\")[-1]"
   ]
  },
  {
   "cell_type": "code",
   "execution_count": null,
   "metadata": {},
   "outputs": [],
   "source": [
    "# Exemplo da utilização do método join\n",
    "# os.path.join('/Users/fabianomorelli/Documents', 'dados_exemplo')\n",
    "# note que a saída é uma string concatenando as partes para formar um caminho válido para o Sistema Operacional\n",
    "\n",
    "os.path.join(os.getcwd(), 'dados_saida')"
   ]
  },
  {
   "cell_type": "code",
   "execution_count": null,
   "metadata": {},
   "outputs": [],
   "source": [
    "# Exemplo da utilização do método split\n",
    "# os.path.split('/Users/fabianomorelli/Documents/dados_exemplo/foc_sev_20161010.bin')\n",
    "os.path.split(file)"
   ]
  },
  {
   "cell_type": "code",
   "execution_count": null,
   "metadata": {},
   "outputs": [],
   "source": [
    "# Exemplo da utilização do método dirname\n",
    "# para extrair o caminho da variável file\n",
    "\n",
    "os.path.dirname(file)"
   ]
  },
  {
   "cell_type": "code",
   "execution_count": null,
   "metadata": {},
   "outputs": [],
   "source": [
    "# Exemplo da utilização do método basename\n",
    "# utilizado para extarir o nome completo do arquivo da variável file\n",
    "\n",
    "os.path.basename(file)"
   ]
  },
  {
   "cell_type": "code",
   "execution_count": null,
   "metadata": {},
   "outputs": [],
   "source": [
    "# Exemplo da utilização do método splitext\n",
    "# utilizado para extarir a extensão do nome completo do arquivo definido na variável file\n",
    "\n",
    "os.path.splitext(nome)"
   ]
  },
  {
   "cell_type": "markdown",
   "metadata": {},
   "source": [
    "<hr>\n",
    "## Criação de Diretórios\n",
    "Para criar um novo diretório o módulo **_OS_** possui o método **mkdir** que funciona independente do sistema operacional. Porém caso seja necessário criar uma árvore de diretórios completa pode ser utilizado o método **makedirs**.\n",
    "\n",
    "\n",
    "## Exemplos destes métodos:"
   ]
  },
  {
   "cell_type": "code",
   "execution_count": null,
   "metadata": {},
   "outputs": [],
   "source": [
    "# Exemplo da utilização do método mkdir\n",
    "# utilizado para criar um diretório dentro do espaço de trabalho corrente.\n",
    "# Para verificar o local de trabalho utilizar os.getcwd()\n",
    "\n",
    "os.mkdir(\"teste\")"
   ]
  },
  {
   "cell_type": "code",
   "execution_count": null,
   "metadata": {},
   "outputs": [],
   "source": [
    "# Utilizar o comando abaixo para verificar o conteúdo do diretório de trabalho.\n",
    "\n",
    "os.listdir(os.getcwd())\n",
    "# Exemplo da resposta do comando\n",
    "# ['.DS_Store', 'foc_sev_20161010.bin', 'foc_sev_20161010.hdr', 'teste']"
   ]
  },
  {
   "cell_type": "code",
   "execution_count": null,
   "metadata": {
    "collapsed": true
   },
   "outputs": [],
   "source": [
    "# Exemplo da utilização do método makedirs\n",
    "# utilizado para criar um caminho completo com todos os diretórios dentro do espaço de trabalho corrente.\n",
    "\n",
    "os.makedirs(\"novos_dados/tmp/csv\")"
   ]
  },
  {
   "cell_type": "markdown",
   "metadata": {},
   "source": [
    "<hr>\n",
    "## Removendo de Diretórios\n",
    "\n",
    "Existem dois métodos semelhantes para apagar **rmdir** e **removedirs**, podem ser utilizados para apagar um único diretório e o segundo para toda a árvore.\n",
    "\n",
    "\n",
    "## Exemplos destes métodos:"
   ]
  },
  {
   "cell_type": "code",
   "execution_count": null,
   "metadata": {},
   "outputs": [],
   "source": [
    "os.listdir(os.getcwd())\n",
    "# Exemplo da resposta do comando\n",
    "# ['.DS_Store', 'foc_sev_20161010.bin', 'foc_sev_20161010.hdr', 'novos_dados', 'teste']"
   ]
  },
  {
   "cell_type": "code",
   "execution_count": null,
   "metadata": {},
   "outputs": [],
   "source": [
    "# Exemplo da utilização do método removedirs\n",
    "# utilizado para apagar um caminho completo com todos os diretórios dentro do espaço de trabalho corrente.\n",
    "\n",
    "\n",
    "os.removedirs(\"novos_dados/tmp/csv\")\n",
    "# Lembrar que se o diretório não estiver vazio o comando não irá ser executado com sucesso."
   ]
  },
  {
   "cell_type": "code",
   "execution_count": null,
   "metadata": {
    "collapsed": true
   },
   "outputs": [],
   "source": [
    "os.listdir(os.getcwd())"
   ]
  },
  {
   "cell_type": "code",
   "execution_count": null,
   "metadata": {
    "collapsed": true
   },
   "outputs": [],
   "source": [
    "os.rmdir(\"teste\")"
   ]
  },
  {
   "cell_type": "code",
   "execution_count": null,
   "metadata": {
    "collapsed": true
   },
   "outputs": [],
   "source": [
    "os.listdir(os.getcwd())"
   ]
  },
  {
   "cell_type": "markdown",
   "metadata": {},
   "source": [
    "# Visão Geral do módulo SHUTIL\n",
    "\n",
    "Quando é necessário mover ou efetuar a cópia de um arquivo é recomendado utilizar o módulo shutil que possui as mesmas funcionalidades do módulo **_OS_** porém um conjunto de recursos extras que foram extendidos aos métodos padrão.\n",
    "\n",
    "O método **copyfile** recebe como parâmetros o caminho completo do dado que será copiado seguido pelo caminho completo do arquivo destino. Todos as pastas do caminho devem existir para que a operação possa ser concluída com exito.\n",
    "\n",
    "## Exemplos:"
   ]
  },
  {
   "cell_type": "code",
   "execution_count": 3,
   "metadata": {
    "collapsed": true
   },
   "outputs": [],
   "source": [
    "import shutil"
   ]
  },
  {
   "cell_type": "code",
   "execution_count": null,
   "metadata": {
    "collapsed": true
   },
   "outputs": [],
   "source": [
    "# O método abaixo espera como parâmetros o nome do arquivo de origem seguido pelo nome destino\n",
    "shutil.copyfile(\"foc_sev_20161010.hdr\", \"/tmp/modelo.hdr\")"
   ]
  },
  {
   "cell_type": "code",
   "execution_count": null,
   "metadata": {
    "collapsed": true
   },
   "outputs": [],
   "source": [
    "os.listdir(os.getcwd())"
   ]
  },
  {
   "cell_type": "markdown",
   "metadata": {},
   "source": [
    "# Visão Geral do módulo GLOB\n",
    "\n",
    "O módulo GLOB ajuda encontrar os arquivos dentro de um diretório por meio filtros com uso de caracteres curingas que podem ser utilizados para filtrar a lista a ser gerada. O método **_glob_** recebe o caminho completo e o conjunto de caracteres que será utilizado no filtro. \n",
    "\n",
    "**Dica**: Utilizar o filtro entre asteriscos (ex: \"*modis*\") para filtrar todos os arquivos com a palavra modis, o métido é sensível a tipografia, ou seja, faz diferença entre maiúscula e minúscula."
   ]
  },
  {
   "cell_type": "code",
   "execution_count": 8,
   "metadata": {
    "collapsed": true
   },
   "outputs": [],
   "source": [
    "import glob"
   ]
  },
  {
   "cell_type": "code",
   "execution_count": null,
   "metadata": {
    "collapsed": true
   },
   "outputs": [],
   "source": [
    " lst = glob.glob(\"*d?\")"
   ]
  },
  {
   "cell_type": "code",
   "execution_count": null,
   "metadata": {},
   "outputs": [],
   "source": [
    "lst.sort()\n",
    "print lst"
   ]
  },
  {
   "cell_type": "code",
   "execution_count": null,
   "metadata": {
    "collapsed": true
   },
   "outputs": [],
   "source": []
  },
  {
   "cell_type": "markdown",
   "metadata": {},
   "source": [
    "# Exercícios\n",
    "<hr>\n",
    "## Exercício 1 -  Criar uma lista com nome dos arquivos do diretorio dados_exemplo que foi criado com a extração do arquivo compactado com o mesmo nome, e imprimir cada nome dos arquivos com extensão .bin"
   ]
  },
  {
   "cell_type": "code",
   "execution_count": 10,
   "metadata": {},
   "outputs": [
    {
     "data": {
      "text/plain": [
       "['foc_sev_20161010.bin',\n",
       " 'foc_sev_20161010.txt',\n",
       " 'foc_sev_20161011.bin',\n",
       " 'foc_sev_20161013.bin',\n",
       " 'foc_sev_20161012.bin',\n",
       " 'foc_sev_20161015.bin',\n",
       " 'foc_sev_20161014.bin',\n",
       " 'foc_sev_20161010.hdr',\n",
       " 'foc_sev_20161010.bin.aux.xml']"
      ]
     },
     "execution_count": 10,
     "metadata": {},
     "output_type": "execute_result"
    }
   ],
   "source": [
    "# Complete aqui seu código\n"
   ]
  },
  {
   "cell_type": "markdown",
   "metadata": {},
   "source": [
    "<hr>\n",
    "## Exercício 2 - Criar uma copia do arquivo modelo.hdr para cada arquivo foc_sev\\*bin, de tal maneira que no diretorio dos dados exista um par de arquivos para cada data, por exemplo:\n",
    "['foc_sev_20161010.bin','foc_sev_20161010.hdr']"
   ]
  },
  {
   "cell_type": "code",
   "execution_count": 11,
   "metadata": {
    "collapsed": true
   },
   "outputs": [],
   "source": [
    "# Complete aqui seu código\n"
   ]
  },
  {
   "cell_type": "markdown",
   "metadata": {},
   "source": [
    "<hr>\n",
    "## Exercício 3 - Desenvolva um trecho de código para imprimir a seguinte string:\n",
    "**'O arquivo foc_sev_20161010.bin é do dia juliano 284 do ano 2016' **\n",
    "\n",
    "## sendo que o nome do arquivo, o dia juliano e o ano devem ser extraídos de cada arquivo do diretório de trabalho dos arquivos de exemplo."
   ]
  },
  {
   "cell_type": "code",
   "execution_count": null,
   "metadata": {
    "collapsed": true
   },
   "outputs": [],
   "source": [
    "# Complete aqui seu código\n"
   ]
  }
 ],
 "metadata": {
  "anaconda-cloud": {
   "environment": null,
   "summary": "Aula sobre módulos padrão do python",
   "url": "https://anaconda.org/fabianomorelli/aula2-manipulacao-de-diretorios-e-arquivos"
  },
  "kernelspec": {
   "display_name": "Python (geospatial)",
   "language": "python",
   "name": "geospatial"
  },
  "language_info": {
   "codemirror_mode": {
    "name": "ipython",
    "version": 3
   },
   "file_extension": ".py",
   "mimetype": "text/x-python",
   "name": "python",
   "nbconvert_exporter": "python",
   "pygments_lexer": "ipython3",
   "version": "3.6.5"
  },
  "toc": {
   "base_numbering": 1,
   "nav_menu": {},
   "number_sections": false,
   "sideBar": true,
   "skip_h1_title": false,
   "title_cell": "Table of Contents",
   "title_sidebar": "Contents",
   "toc_cell": false,
   "toc_position": {},
   "toc_section_display": true,
   "toc_window_display": false
  }
 },
 "nbformat": 4,
 "nbformat_minor": 2
}
