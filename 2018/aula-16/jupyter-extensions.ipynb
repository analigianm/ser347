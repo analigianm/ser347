{
 "cells": [
  {
   "cell_type": "markdown",
   "metadata": {
    "slideshow": {
     "slide_type": "slide"
    }
   },
   "source": [
    "# <span style=\"color:#336699\">SER-347 - Introdução à Programação para Sensoriamento Remoto</span>\n",
    "<hr style=\"border:2px solid #0077b9;\">\n",
    "\n",
    "# <span style=\"color:#336699\">Extensões para Jupyter Notebooks</span>\n",
    "\n",
    "[<img src=\"http://jupyter.org/assets/nav_logo.svg\" alt=\"Project Jupyter\" style=\"height: 75px;\" align=\"right\">](https://matplotlib.org)\n",
    "\n",
    "- Gilberto Ribeiro de Queiroz\n",
    "- Thales Sehn Körting\n",
    "- Fabiano Morelli"
   ]
  },
  {
   "cell_type": "markdown",
   "metadata": {
    "slideshow": {
     "slide_type": "slide"
    }
   },
   "source": [
    "# Extensões\n",
    "<hr style=\"border:1px solid #0077b9;\">\n",
    "\n",
    "<img src=\"./img/jupyter-extensions.png\" alt=\"Extensões Jupyter Notebook\" width=\"640\">\n",
    "<p style=\"text-align: center\">Figura 1 - Janela de extensões para Jupyter Notebook.</p>"
   ]
  },
  {
   "cell_type": "markdown",
   "metadata": {
    "slideshow": {
     "slide_type": "slide"
    }
   },
   "source": [
    "# Instalação\n",
    "<hr style=\"border:1px solid #0077b9;\">"
   ]
  },
  {
   "cell_type": "markdown",
   "metadata": {
    "slideshow": {
     "slide_type": "fragment"
    }
   },
   "source": [
    "```bash\n",
    "\n",
    "conda activate geospatial\n",
    "\n",
    "\n",
    "conda install -c conda-forge jupyter_contrib_nbextensions\n",
    "```"
   ]
  },
  {
   "cell_type": "markdown",
   "metadata": {
    "slideshow": {
     "slide_type": "slide"
    }
   },
   "source": [
    "# Extensões\n",
    "<hr style=\"border:1px solid #0077b9;\">\n",
    "\n",
    "Abaixo apresentamos a lista de alguns plugins instalados pelo comando acima que são muito úteis:\n",
    "* Codefolding\n",
    "* Codefolding in Editor\n",
    "* Collapsible Headings\n",
    "* ExecuteTime\n",
    "* Table of Contents\n"
   ]
  },
  {
   "cell_type": "markdown",
   "metadata": {
    "slideshow": {
     "slide_type": "slide"
    }
   },
   "source": [
    "# Rise\n",
    "<hr style=\"border:1px solid #0077b9;\">\n",
    "\n",
    "A extensão [RISE](https://github.com/damianavila/RISE) possibilita utilizar o ambiente do Jupyter Notebook para apresentação de slides. Assim, não há a necessidade de conversão do documento `.ipynb` em um formato específico para exibição na forma de slides.\n",
    "\n",
    "Esta extensão é baseado no framework JavaScript chamado [reveal.js](https://revealjs.com/#/).\n",
    "\n",
    "A instalação através do `conda` pode ser realizada utilizando o canal `damianavila82`, como mostrado abaixo:"
   ]
  },
  {
   "cell_type": "markdown",
   "metadata": {
    "slideshow": {
     "slide_type": "fragment"
    }
   },
   "source": [
    "```bash\n",
    "conda install -c damianavila82 rise\n",
    "```"
   ]
  },
  {
   "cell_type": "markdown",
   "metadata": {
    "slideshow": {
     "slide_type": "subslide"
    }
   },
   "source": [
    "Para que os slides utilizem uma barra de rolagem vertical é preciso criar um arquivo chamado `livereveal.json` dentro da sua pasta de configuração dos notebooks jupyter.\n",
    "\n",
    "Para o meu usário, `gribeiro`, no macOS, esse arquivo deve ser incluído em:\n",
    "```\n",
    "/Users/gribeiro/.jupyter/nbconfig/livereveal.json\n",
    "```\n",
    "\n",
    "E o conteúdo do arquivo é o seguinte:\n",
    "```js\n",
    "{\n",
    "  \"start_slideshow_at\": \"selected\", \n",
    "  \"transition\": \"fade\", \n",
    "  \"height\": 900, \n",
    "  \"width\": 1600, \n",
    "  \"theme\": \"white\", \n",
    "  \"slideNumber\": true, \n",
    "  \"scroll\": true\n",
    "}\n",
    "```\n",
    "\n",
    "Após criar este arquivo será necsssário fechar e abrir o notebook para que a modificação tenha efeito.\n",
    "\n",
    "Uma forma alternativa de configurar a barra de rolagem vertical consiste em editar doretamente o arquivo `main.js` da extensão `rise`. Na minha instalação, esse arquivo encontra-se em:\n",
    "```\n",
    "/Users/gribeiro/anaconda3/envs/geospatial/share/jupyter/nbextensions/rise/main.js\n",
    "```\n",
    "\n",
    "Basta localizar a chave `scroll` e atribuir o valor lógico `true`. Depois, reinicie o notebook para que a modificação tenha efeito.\n",
    "\n",
    "**Obs.:** Só utilize essa segunda forma, se a primeira solução não te atender."
   ]
  },
  {
   "cell_type": "markdown",
   "metadata": {
    "slideshow": {
     "slide_type": "slide"
    }
   },
   "source": [
    "# Considerações Finais\n",
    "\n",
    "Para saber mais sobre os [diretórios da sua instalação Jupyter](http://jupyter.readthedocs.io/en/latest/projects/jupyter-directories.html), utilize o comando abaixo:\n",
    "```bash\n",
    "jupyter --paths\n",
    "```"
   ]
  },
  {
   "cell_type": "markdown",
   "metadata": {
    "slideshow": {
     "slide_type": "slide"
    }
   },
   "source": [
    "# Referências Bibliográficas\n",
    "\n",
    "- [Unofficial Jupyter Notebook Extensions](http://jupyter-contrib-nbextensions.readthedocs.io/en/latest/). Acesso: 30 de Abril de 2018.<br><br>\n",
    "\n",
    "- [Jupyter notebook extensions](https://github.com/ipython-contrib/jupyter_contrib_nbextensions). Acesso: 30 de Abril de 2018.<br><br>\n",
    "\n",
    "- [RISE](https://github.com/damianavila/RISE). Acesso: 30 de Abril de 2018."
   ]
  }
 ],
 "metadata": {
  "celltoolbar": "Slideshow",
  "kernelspec": {
   "display_name": "Python (geospatial)",
   "language": "python",
   "name": "geospatial"
  },
  "language_info": {
   "codemirror_mode": {
    "name": "ipython",
    "version": 3
   },
   "file_extension": ".py",
   "mimetype": "text/x-python",
   "name": "python",
   "nbconvert_exporter": "python",
   "pygments_lexer": "ipython3",
   "version": "3.6.5"
  },
  "toc": {
   "base_numbering": 1,
   "nav_menu": {},
   "number_sections": true,
   "sideBar": true,
   "skip_h1_title": false,
   "title_cell": "Table of Contents",
   "title_sidebar": "Contents",
   "toc_cell": false,
   "toc_position": {},
   "toc_section_display": true,
   "toc_window_display": false
  }
 },
 "nbformat": 4,
 "nbformat_minor": 2
}
