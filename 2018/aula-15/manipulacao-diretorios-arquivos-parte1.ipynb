{
 "cells": [
  {
   "cell_type": "markdown",
   "metadata": {},
   "source": [
    "# <span style=\"color:#336699\">SER-347 - Introdução à Programação para Sensoriamento Remoto</span>\n",
    "<hr style=\"border:2px solid #0077b9;\">\n",
    "\n",
    "# <span style=\"color:#336699\">Aula 15 - Manipulacao de Datas, Diretórios e Arquivos</span>\n",
    "\n",
    "- Fabiano Morelli\n",
    "- Gilberto Ribeiro de Queiroz\n",
    "- Thales Sehn Körting"
   ]
  },
  {
   "cell_type": "markdown",
   "metadata": {},
   "source": [
    "# 1. Revisão das aulas 6 e 7\n",
    "<hr style=\"border:1px solid #0077b9;\">\n",
    "Considerando a string <b>'dados_exemplo/foc_sev_20161010.bin' </b>\n",
    "\n",
    "Se o símbolo ”/” for um separador, e então definir duas partes da string com nome caminho e nome\n",
    "\n",
    "caminho = 'dados_exemplo’\n",
    "\n",
    "nome = 'foc_sev_20161010.bin’\n",
    "\n",
    "## Escreva um conjunto de comandos parar separar a string do ínicio do slide e imprimir apenas o nome do arquivo. \n",
    "\n",
    "Possíveis soluções:\n",
    "\n",
    " - Utilizando o operador de strings SPLIT\n",
    " - Utilizando o fatiamento de strings \n",
    " - Utilizando operador FIND\n",
    " \n"
   ]
  },
  {
   "cell_type": "code",
   "execution_count": null,
   "metadata": {},
   "outputs": [],
   "source": [
    "# Exemplo 1 - Utilizando operador SPLIT\n",
    "str1 = \"dados_exemplo/foc_sev_20161010.bin\"\n",
    "\n",
    "nome = str1.split('/')[1] \n",
    "print(nome)"
   ]
  },
  {
   "cell_type": "code",
   "execution_count": null,
   "metadata": {},
   "outputs": [],
   "source": [
    "# Exemplo 2 - Utilizando fatiamento de strings\n",
    "# considere o índice dos caracteres começando em 0 (zero) sendo contado da esquerda para a direita;\n",
    "# o fatiamento utiliza como parâmetros a posição inicial até uma posição além da desejada, ou até o final da sting\n",
    "str1 = \"dados_exemplo/foc_sev_20161010.bin\"\n",
    "\n",
    "nome = str1[14:]\n",
    "print(nome)"
   ]
  },
  {
   "cell_type": "code",
   "execution_count": null,
   "metadata": {},
   "outputs": [],
   "source": [
    "# Exemplo 3 - Utilizando fatiamento de strings\n",
    "# considere o índice dos caracteres começando em -1 (menos um) contado da direita para a esquerda;\n",
    "# o fatiamento utiliza como parâmetros a posição inicial (esquerda para direita) até \n",
    "# uma posição além da desejada, ou até o final da sting\n",
    "str1 = \"dados_exemplo/foc_sev_20161010.bin\"\n",
    "\n",
    "nome = str1[-20:] \n",
    "print(nome)"
   ]
  },
  {
   "cell_type": "code",
   "execution_count": null,
   "metadata": {},
   "outputs": [],
   "source": [
    "# Exemplo 2 - Utilizando o operador FIND e fatiamento de strings\n",
    "#\n",
    "# O Find deve procurar e retornar o índice de localização da primeira ocorrência da string procurada;\n",
    "# considere utilizar o resultado no índice dos caracteres contado da esquerda para a direita;\n",
    "\n",
    "str1 = \"dados_exemplo/foc_sev_20161010.bin\"\n",
    "\n",
    "nome = str1[str1.find(\"foc\"):]\n",
    "print(nome)"
   ]
  },
  {
   "cell_type": "markdown",
   "metadata": {},
   "source": [
    "<hr>\n",
    "# Exercício 1 - Criar um novo nome de arquivo\n",
    "\n",
    "## Desejo utilizar a string \"dados_exemplo/foc_sev_20161010.bin\" como entrada para mudar no nome do arquivo a extensão de ”bin” para ”hdr” e imprimir apenas o novo nome."
   ]
  },
  {
   "cell_type": "code",
   "execution_count": null,
   "metadata": {},
   "outputs": [],
   "source": [
    "str1 = 'dados_exemplo/foc_sev_20161010.bin'\n",
    "nome = str1.replace('bin', 'hdr')\n",
    "\n",
    "print(nome)  # Exemplo incompleto pois não está imprimindo apenas o nome do arquivo!\n"
   ]
  },
  {
   "cell_type": "code",
   "execution_count": null,
   "metadata": {},
   "outputs": [],
   "source": [
    "# Complete aqui seu código\n"
   ]
  },
  {
   "cell_type": "code",
   "execution_count": null,
   "metadata": {},
   "outputs": [],
   "source": []
  },
  {
   "cell_type": "markdown",
   "metadata": {},
   "source": [
    "<hr>\n",
    "# Exercício 2 - Criar uma variável do tipo lista com nomes de arquivos seguindo o padrão utilizado nos exemplos anteriores, sendo um nome para cada dia do mês de outubro no ano 2016, e imprimir um nome por linha.\n",
    "# dica https://pyformat.info"
   ]
  },
  {
   "cell_type": "code",
   "execution_count": null,
   "metadata": {},
   "outputs": [],
   "source": [
    "# Complete aqui seu código\n"
   ]
  },
  {
   "cell_type": "markdown",
   "metadata": {
    "collapsed": true
   },
   "source": [
    "# 2. Manipulação de Datas utilizandos a biblioteca datetime\n",
    "<hr style=\"border:1px solid #0077b9;\">\n",
    "\n",
    "\n",
    "Detalhes da documentação oficial do Python podem ser encontrados em https://docs.python.org/2/library/datetime.html"
   ]
  },
  {
   "cell_type": "code",
   "execution_count": null,
   "metadata": {},
   "outputs": [],
   "source": [
    "# Importação da biblioteca a ser utilizada\n",
    "import datetime as dt"
   ]
  },
  {
   "cell_type": "markdown",
   "metadata": {
    "collapsed": true
   },
   "source": [
    "Método para retornar um objeto do tipo data com os valores atuais do sistema:"
   ]
  },
  {
   "cell_type": "code",
   "execution_count": null,
   "metadata": {},
   "outputs": [],
   "source": [
    "dt.date.today()"
   ]
  },
  {
   "cell_type": "code",
   "execution_count": null,
   "metadata": {},
   "outputs": [],
   "source": [
    "# Criação de uma variável para guardar o valor da data atual\n",
    "data_atual = dt.date.today()"
   ]
  },
  {
   "cell_type": "code",
   "execution_count": null,
   "metadata": {},
   "outputs": [],
   "source": [
    "# Verificação do valor da variável\n",
    "print(data_atual)"
   ]
  },
  {
   "cell_type": "markdown",
   "metadata": {
    "nbpresent": {
     "id": "81d24e7c-910f-40a0-aa1f-b4140c8e43eb"
    },
    "slideshow": {
     "slide_type": "slide"
    }
   },
   "source": [
    "O objeto data pode ser manipulado por meio de suas propriedades extraindo apenas uma parte do valor.\n",
    "\n",
    "**Exemplo**\n",
    "\n",
    "# data_atual.year   \n",
    "\n",
    "# data_atual.month    \n",
    "\n",
    "# data_atual.day"
   ]
  },
  {
   "cell_type": "markdown",
   "metadata": {
    "nbpresent": {
     "id": "544905c1-0528-42fe-a6e5-0865a6bd0aa5"
    },
    "slideshow": {
     "slide_type": "slide"
    }
   },
   "source": [
    "O Objeto de data possui outros métodos "
   ]
  },
  {
   "cell_type": "code",
   "execution_count": null,
   "metadata": {
    "nbpresent": {
     "id": "e68a9730-4473-42b1-82d9-13edb6362b71"
    },
    "slideshow": {
     "slide_type": "fragment"
    }
   },
   "outputs": [],
   "source": [
    "data_atual.timetuple()"
   ]
  },
  {
   "cell_type": "code",
   "execution_count": null,
   "metadata": {},
   "outputs": [],
   "source": [
    "data_atual.timetuple()"
   ]
  },
  {
   "cell_type": "markdown",
   "metadata": {},
   "source": [
    "# Exercício 3 -  Armazenar o valor do dia juliano da data atual em uma nova variável e imprimir o valor desta variável."
   ]
  },
  {
   "cell_type": "code",
   "execution_count": null,
   "metadata": {},
   "outputs": [],
   "source": [
    "# Complete aqui seu código\n"
   ]
  },
  {
   "cell_type": "markdown",
   "metadata": {
    "nbpresent": {
     "id": "a2669f9f-6411-4f83-b5f8-f708f72af10a"
    },
    "slideshow": {
     "slide_type": "slide"
    }
   },
   "source": [
    "Outra forma de definição de uma data em um objeto datetime é atribuindo os valores de ano, mes e dia diretamente no método date:\n",
    "\n",
    "**dt.date(2016,01,01)**\n",
    "\n",
    "também é possível definir a partir de uma string representando uma data completa ou \"date and time\" correspondente a uma string de formato: \n",
    "\n",
    "** datetime.strptime(date_string, format) **"
   ]
  },
  {
   "cell_type": "markdown",
   "metadata": {
    "nbpresent": {
     "id": "656585d9-f437-4235-8dab-d14547964fda"
    },
    "slideshow": {
     "slide_type": "slide"
    }
   },
   "source": [
    "# Exercício 4 - Definir uma variável que represente a data referente ao início do ano anterior, e imprimir o valor desta variável."
   ]
  },
  {
   "cell_type": "code",
   "execution_count": null,
   "metadata": {},
   "outputs": [],
   "source": [
    "# Complete aqui seu código\n"
   ]
  },
  {
   "cell_type": "markdown",
   "metadata": {
    "nbpresent": {
     "id": "605eab26-7144-4e63-b0d7-fafb5e0a1fcf"
    },
    "slideshow": {
     "slide_type": "slide"
    }
   },
   "source": [
    "# Exercício 5 - Definir uma variável que represente a data referente ao final do ano anterior, e imprimir o valor desta variável."
   ]
  },
  {
   "cell_type": "code",
   "execution_count": null,
   "metadata": {},
   "outputs": [],
   "source": [
    "# Complete aqui seu código\n"
   ]
  },
  {
   "cell_type": "markdown",
   "metadata": {
    "nbpresent": {
     "id": "79e02db1-40b7-4f65-88b4-0bb63a87f037"
    },
    "slideshow": {
     "slide_type": "slide"
    }
   },
   "source": [
    "## Formatação de data para apresentação\n",
    "A partir de um objeto datetime o programa pode manipular qualquer parte de uma struct_time, porém muitas vezes é desejável mudar a formatação, podendo ser na construção de um objeto datetime ou na apresentação. Detalhes para criar a string de formatação podem ser vistos em https://docs.python.org/2/library/datetime.html#strftime-and-strptime-behavior"
   ]
  },
  {
   "cell_type": "markdown",
   "metadata": {},
   "source": [
    "# Exercício 6 - Imprimir a variável ou objeto data_atual no padrão brasileiro \n",
    "# (mês/dia/ano ex: 04/05/2018)"
   ]
  },
  {
   "cell_type": "code",
   "execution_count": null,
   "metadata": {},
   "outputs": [],
   "source": [
    "# Apresentação da data no padrão brasileiro\n",
    "# Complete aqui seu código\n"
   ]
  },
  {
   "cell_type": "code",
   "execution_count": null,
   "metadata": {},
   "outputs": [],
   "source": []
  },
  {
   "cell_type": "markdown",
   "metadata": {},
   "source": [
    "# Exercício 7 - Imprimir a variável ou objeto data_atual no padrão ano_diaJuliano \n",
    "# (ex: 2018_124)"
   ]
  },
  {
   "cell_type": "code",
   "execution_count": null,
   "metadata": {},
   "outputs": [],
   "source": [
    "# Apresentação da data com Ano_diaJuliano\n",
    "# Complete aqui seu código\n",
    "\n"
   ]
  },
  {
   "cell_type": "code",
   "execution_count": null,
   "metadata": {},
   "outputs": [],
   "source": []
  },
  {
   "cell_type": "markdown",
   "metadata": {
    "nbpresent": {
     "id": "6bbc8217-3ac2-47ab-b0c3-8a22aec6e817"
    },
    "slideshow": {
     "slide_type": "slide"
    }
   },
   "source": [
    "# Exercício - 8 Criar um objeto datetime tendo como entrada '20171024 07:34:18'"
   ]
  },
  {
   "cell_type": "code",
   "execution_count": null,
   "metadata": {},
   "outputs": [],
   "source": [
    "# Exercício: criar um objeto datetime tendo como entrada '20171024 07:34:18'\n",
    "# Complete aqui seu código\n"
   ]
  },
  {
   "cell_type": "code",
   "execution_count": null,
   "metadata": {},
   "outputs": [],
   "source": []
  },
  {
   "cell_type": "markdown",
   "metadata": {},
   "source": [
    "# Exercício 9  - Criar um objeto datetime tendo como entrada o dia juliano 109 do ano 2016 e depois apresentar o resutado com formato brasileiro dia/mes/ano"
   ]
  },
  {
   "cell_type": "code",
   "execution_count": null,
   "metadata": {},
   "outputs": [],
   "source": [
    "# Complete aqui seu código\n"
   ]
  },
  {
   "cell_type": "code",
   "execution_count": null,
   "metadata": {},
   "outputs": [],
   "source": []
  },
  {
   "cell_type": "markdown",
   "metadata": {},
   "source": [
    "# Exercício 10 -Criar uma variável que represente o número de dias consecutivos entre a data atual e o início do ano anterior e imprimir o valor desta variável.\n",
    "\n"
   ]
  },
  {
   "cell_type": "code",
   "execution_count": null,
   "metadata": {},
   "outputs": [],
   "source": [
    "# Complete aqui seu código\n"
   ]
  },
  {
   "cell_type": "code",
   "execution_count": null,
   "metadata": {},
   "outputs": [],
   "source": []
  },
  {
   "cell_type": "markdown",
   "metadata": {},
   "source": [
    "# Exercício 11 -  Criar uma variável que represente a data de exatamente um ano atrás, e imprimir o valor desta variável.\n",
    "\n"
   ]
  },
  {
   "cell_type": "code",
   "execution_count": null,
   "metadata": {},
   "outputs": [],
   "source": [
    "# Complete aqui seu código\n"
   ]
  },
  {
   "cell_type": "code",
   "execution_count": null,
   "metadata": {},
   "outputs": [],
   "source": []
  },
  {
   "cell_type": "markdown",
   "metadata": {},
   "source": [
    "# Desafio: identificar o último dia do mês de fevereiro de 2016"
   ]
  },
  {
   "cell_type": "code",
   "execution_count": null,
   "metadata": {},
   "outputs": [],
   "source": [
    "# Complete aqui seu código\n"
   ]
  },
  {
   "cell_type": "code",
   "execution_count": null,
   "metadata": {},
   "outputs": [],
   "source": []
  },
  {
   "cell_type": "code",
   "execution_count": null,
   "metadata": {},
   "outputs": [],
   "source": []
  }
 ],
 "metadata": {
  "kernelspec": {
   "display_name": "Python (geospatial)",
   "language": "python",
   "name": "geospatial"
  },
  "language_info": {
   "codemirror_mode": {
    "name": "ipython",
    "version": 3
   },
   "file_extension": ".py",
   "mimetype": "text/x-python",
   "name": "python",
   "nbconvert_exporter": "python",
   "pygments_lexer": "ipython3",
   "version": "3.6.5"
  }
 },
 "nbformat": 4,
 "nbformat_minor": 2
}
