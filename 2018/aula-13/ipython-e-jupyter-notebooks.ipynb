{
 "cells": [
  {
   "cell_type": "markdown",
   "metadata": {},
   "source": [
    "# <span style=\"color:#336699\">SER-347 - Introdução à Programação para Sensoriamento Remoto</span>\n",
    "<hr style=\"border:2px solid #0077b9;\">\n",
    "\n",
    "# <span style=\"color:#336699\">Aula 13 - IPython e Jupyter Notebooks</span>\n",
    "\n",
    "\n",
    "[<img src=\"http://jupyter.org/assets/nav_logo.svg\" alt=\"Project Jupyter\" style=\"height: 75px;\" align=\"right\">](https://matplotlib.org)\n",
    "\n",
    "\n",
    "- Gilberto Ribeiro de Queiroz\n",
    "- Thales Sehn Körting\n",
    "- Fabiano Morelli"
   ]
  },
  {
   "cell_type": "markdown",
   "metadata": {},
   "source": [
    "# 1. Introdução\n",
    "<hr style=\"border:1px solid #0077b9;\">\n",
    "\n",
    "O [IPython](https://ipython.org/) é um ambiente projetado para [Computação Interativa](https://en.wikipedia.org/wiki/Interactive_computing). Originalmente foi criado para a linguagem Python, mas atualmente suporta diversas outras linguagens de programação, notoriamente, [R](https://github.com/IRkernel/IRkernel) e [Julia](https://github.com/JuliaLang/IJulia.jl).\n",
    "\n",
    "Basicamente, o IPython fornece um terminal interativo com capacidade de destacar símbolos da linguagem Python, possui recursos avançados de auto-completar (*tab completion*) que inclui introspecção do objeto em questão para determinar atributos e métodos, manutenção do histórico de comandos, capacidade de execução de comandos do sistema operacional integrados com a linguagem, além de forte suporte para visualização interativa e computação distribuída e paralela.\n",
    "\n",
    "Junto com a tecnologia conhecida como [Jupyter Notebooks](http://jupyter-notebook-beginner-guide.readthedocs.io/en/latest/what_is_jupyter.html), oferece uma forma poderosa de construir documentos envolvendo texto livre, textos formatados em Markdown, com uso de HTML e expressões matemáticas em LaTeX, elementos gráficos resultantes de plotagem de figuras dentro da própria página (*inline*), além de diversos outros tipos de mídias.\n",
    "\n",
    "Essa parte do curso tem como objetivo apresentar em detalhes a tecnologia conhecida como IPython e Jupyter Notebooks, em especial, como utilizar essa tecnologia para criação de documentos científicos que possa, ser facilmente reproduzidos e modificados. Para isso, é pressuposto que o aluno já possua o ambiente do Anaconda devidamente instalado em seu sistema."
   ]
  },
  {
   "cell_type": "markdown",
   "metadata": {},
   "source": [
    "# 2. IPython\n",
    "<hr style=\"border:1px solid #0077b9;\">\n",
    "\n",
    "A `Figura 1` abaixo apresenta a interface gráfica do terminal interativo padrão do Python. Este terminal possui recursos elementares de auto-completar. Através da tecla `TAB` podemos completar o nome de um objeto ou obter uma listagem dos métodos do objeto em questão. Na `Figura 1`, após o operador de membro (`.`) da lista numérica `seq_fibonacci`, usamos a tecla `TAB` para apresentar na tela a lista de métodos associados a esse objeto. Note que nem os valores literais numéricos, nem a função `print`, são destacados com alguma cor específica.<br><br>\n",
    "\n",
    "<img src=\"./img/terminal-interativo-01.png\" alt=\"Terminal Interativo Python\" width=\"640\">\n",
    "<p style=\"text-align: center\">Figura 1 - Terminal Interativo Python.</p>\n",
    "\n",
    "Na `Figura 2` podemos observar o terminal interativo do IPython. Nele podemos observar que as constantes literais numéricas, assim como a função `print`, são devidamente realçadas. Além disso, as opções de métodos apresentadas para o objeto `seq_fibonacci`, pelo recurso de auto-completar (tecla `TAB`), podem ser selecionados através das teclas de direção (setas) ou pelo clique do mouse sobre a opção desejada.<br><br>\n",
    "\n",
    "<img src=\"./img/ipython-01.png\" alt=\"Terminal Interativo IPython\" width=\"640\">\n",
    "<p style=\"text-align: center\">Figura 2 - Terminal Interativo IPython.</p>\n",
    "\n",
    "O recurso de auto-completar do IPython pode inclusive ser utilizado com expressões mais complexas, como a mostrada na `Figura 3`, onde o elemento `0` da lista é usado para se determinar os métodos disponíveis para o objeto resultante da expressão `L[0]`.<br><br>\n",
    "\n",
    "<img src=\"./img/ipython-09.png\" alt=\"Terminal Interativo IPython\" width=\"640\">\n",
    "<p style=\"text-align: center\">Figura 3 - Recursos de auto-completar do IPython.</p>\n",
    "\n",
    "A `Tabela 1` apresenta alguns comandos úteis que podem ser usados no terminal do IPython:\n",
    "<table style=\"border: 1px solid black;\">\n",
    "    <caption style=\"margin: 0;\">Tabela 1 - Comandos úteis Ipython.</caption>\n",
    "    <tbody>\n",
    "        <tr>\n",
    "            <th style=\"text-align: center; border: 1px solid black\">Comando</th>\n",
    "            <th style=\"text-align: center; border: 1px solid black\">Descrição</th>\n",
    "        </tr>\n",
    "    \n",
    "        <tr>\n",
    "            <td style=\"text-align: left; border: 1px solid black\">`?`</td>\n",
    "            <td style=\"text-align: left; border: 1px solid black\">apresenta informações sobre os recursos do IPython (`Figura 4`).</td>\n",
    "        </tr>\n",
    "    \n",
    "        <tr>\n",
    "            <td style=\"text-align: left; border: 1px solid black\">`%quickref`</td>\n",
    "            <td style=\"text-align: left; border: 1px solid black\">apresenta uma janela com referência rápidas para os comandos do IPython (`Figura 5`).</td>\n",
    "        </tr>\n",
    "    \n",
    "        <tr>\n",
    "            <td style=\"text-align: left; border: 1px solid black\">`help()`</td>\n",
    "            <td style=\"text-align: left; border: 1px solid black\">acessa o sistema de ajuda do próprio Python (`Figura 6`).</td>\n",
    "        </tr>\n",
    "    \n",
    "        <tr>\n",
    "            <td style=\"text-align: left; border: 1px solid black\">`objeto?`</td>\n",
    "            <td style=\"text-align: left; border: 1px solid black\">apresenta os detalhes sobre o ‘objeto’ (`Figuras 7 e 8`). Use `??` para mais detalhes sobre o `objeto` (`Figura 9`).</td>\n",
    "        </tr>\n",
    "    </tbody>\n",
    "</table>\n",
    "\n",
    "<br>\n",
    "<img src=\"./img/ipython-02.png\" alt=\"Terminal Interativo IPython\" width=\"640\">\n",
    "<p style=\"text-align: center\">Figura 4 - Informações gerais sobre o IPython.</p>\n",
    "\n",
    "<br>\n",
    "<img src=\"./img/ipython-03.png\" alt=\"Terminal Interativo IPython\" width=\"640\">\n",
    "<p style=\"text-align: center\">Figura 5 - Janela de referência dos principais comandos no IPython.</p>\n",
    "\n",
    "<br>\n",
    "<img src=\"./img/ipython-04.png\" alt=\"Terminal Interativo IPython\" width=\"640\">\n",
    "<p style=\"text-align: center\">Figura 6 - Acessando o sistema de ajuda do Python no terminal IPython.</p>\n",
    "\n",
    "<br>\n",
    "<img src=\"./img/ipython-05-a.png\" alt=\"Terminal Interativo IPython\" width=\"640\">\n",
    "<p style=\"text-align: center\">Figura 7 - Detalhando um objeto através do caracter `?` no terminal IPython.</p>\n",
    "\n",
    "<br>\n",
    "<img src=\"./img/ipython-05-b.png\" alt=\"Terminal Interativo IPython\" width=\"640\">\n",
    "<p style=\"text-align: center\">Figura 8 - Detalhando um objeto através do caracter `?` no terminal IPython.</p>\n",
    "\n",
    "<br>\n",
    "<img src=\"./img/ipython-05-c.png\" alt=\"Terminal Interativo IPython\" width=\"640\">\n",
    "<p style=\"text-align: center\">Figura 9 - Detalhando um objeto através do caracter `??` no terminal IPython.</p>"
   ]
  },
  {
   "cell_type": "markdown",
   "metadata": {},
   "source": [
    "# 2.1 Numeração das Entradas e Saídas\n",
    "<hr style=\"border:0.25px solid #0077b9;\">\n",
    "\n",
    "O terminal interativo padrão do Python mantém o resultado de uma expressão avaliada sem associação a um nome específico, em uma variável chamada \"`_`\" (um sublinhado simples). No entanto, cada novo resultado acaba por sobrescrever esse resultado.\n",
    "\n",
    "O terminal do IPython utiliza um sistema de numeração para as entradas e saídas: `In [N]` e `Out[N]`.\n",
    "\n",
    "Todas as saídas podem ser acessadas através do nome \"`_N`\". A `Figura 10` mostra como funciona esse recurso:<br><br>\n",
    "\n",
    "<img src=\"./img/ipython-06.png\" alt=\"Terminal Interativo IPython\" width=\"640\">\n",
    "<p style=\"text-align: center\">Figura 10 - Reutilizando as saídas no IPython.</p>\n",
    "\n",
    "As entradas podem ser ser acessadas através dos padrões: `_i<n>` ou `_ih[<n>]` ou `In[<n>]`.\n",
    "\n",
    "A entrada 9 pode ser acessada da seguinte forma: `_i9` ou `_ih[9]` ou `In[9]`.\n",
    "\n",
    "Para maiores informações sobre o funcionamento desse sistema, consulte [aqui](http://ipython.readthedocs.io/en/stable/interactive/reference.html#input-caching-system) e [aqui](http://ipython.readthedocs.io/en/stable/interactive/reference.html#output-caching-system)."
   ]
  },
  {
   "cell_type": "markdown",
   "metadata": {},
   "source": [
    "# 3. Jupyter Notebooks\n",
    "<hr style=\"border:1px solid #0077b9;\">\n",
    "\n",
    "O [Jupyter Notebook](https://jupyter-notebook.readthedocs.io/en/stable/) permite a criação de documentos que misturam elementos de código e textos descritivos formatados em Markdown, o que possibilita a inclusão de textos em HTML ou LaTeX. Usando a infraestrutura do IPython dentro do navegador, oferece um excelente ambiente de computação interativa.\n",
    "\n",
    "Os documentos, chamados de *notebooks*, são armazenados em arquivos texto no formato `JSON` com a extensão `.ipynb`. Os documentos podem ser organizados em células de diversos tipos, como células para escrita e execução de código e células para documentação usando a notação Markdown.\n",
    "\n",
    "Assim como no console do IPython, as células de código são organizadas em células de entrada (`In [N]`) e saída (`Out[N]`), valendo o mesmo sistema de *cache* das entradas e resultados.\n",
    "\n",
    "Os *notebooks* podem ser exportados para diversos outros formatos, incluindo HTML, LaTeX, PDF, e slides. A ferramenta `nbconvert` pode ser usada para esta finalidade.\n",
    "\n",
    "Esta tecnologia tem sido amplamente aceita na comunidade de Ciência dos Dados (Data Science). Além disso, tem sido integrada com diversas outras plataformas em nuvem (cloud), como o [GitHub](https://github.com), que é capaz de apresentar arquivos com a extensão `.ipynb` diretamente no navegador como páginas HTML. O site https://mybinder.org é capaz de tornar um repositório do GitHub em uma coleção de *notebooks* interativos."
   ]
  },
  {
   "cell_type": "markdown",
   "metadata": {},
   "source": [
    "## 3.1 Inicializando o Jupyter Notebook\n",
    "<hr style=\"border:0.25px solid #0077b9;\">\n",
    "\n",
    "Para inicializar o servidor Jupyter Notebook, você pode digitar na linha de comando do seu sistema operacional o seguinte comando:\n",
    "\n",
    "```bash\n",
    "$ jupyter notebook\n",
    "```\n",
    "\n",
    "Na `Figura 11`, mostramos como esse comando pode ser executado no terminal do sistema operacional.<br><br>\n",
    "\n",
    "<img src=\"./img/jupyter-notebook-01.png\" alt=\"Inicializando o Jupyter Notebook\" width=\"640\">\n",
    "<p style=\"text-align: center\">Figura 11 - Inicializando o Jupyter Notebook.</p>\n",
    "\n",
    "O comando acima irá escrever algumas informações na tela do terminal do sistema operacional, conforme mostrado na `Figura 12`.<br><br>\n",
    "\n",
    "<img src=\"./img/jupyter-notebook-02.png\" alt=\"Jupyter Notebook em inicialização.\" width=\"640\">\n",
    "<p style=\"text-align: center\">Figura 12 - Jupyter Notebook em inicialização.</p>\n",
    "\n",
    "Ao final da inicialização do Jupyter Notebook, será aberto o navegador associado a URL da aplicação web, que por padrão fica configurada no endereço: http://127.0.0.1:8888 (`Figura 13`).<br><br>\n",
    "\n",
    "<img src=\"./img/jupyter-notebook-03.png\" alt=\"Aplicação Web Jupyter Notebook.\" width=\"640\">\n",
    "<p style=\"text-align: center\">Figura 13 - Aplicação Web Jupyter Notebook.</p>\n",
    "\n",
    "Note na `Figura 13` que a pasta de onde executamos o comando `jupyter notebook` se torna a raiz do sistema de arquivos na qual podemos navegar na aplicação exibida. Nessa janela podemos observar a existência de duas pastas (`exemplos` e `img`) e um arquivo (`ipython-e-jupyter-notebooks.ipynb`). Para os arquivos com extensão `.ipynb`, como o notebook `ipython-e-jupyter-notebooks.ipynb`, é mostrado sua última execução, que neste caso ocorreu a \"4 horas atrás\". Se o notebook estivesse em execução, seu nome seria destacado com um ícone verde e a palavra `Running` como mostrado na `Figura 14`.<br><br>\n",
    "\n",
    "<img src=\"./img/jupyter-notebook-05.png\" alt=\"Jupyter Notebook em execução.\" width=\"640\">\n",
    "<p style=\"text-align: center\">Figura 14 - Aplicação Web indicando que um notebook encontra-se em execução.</p>\n",
    "\n",
    "Na janela principal do Jupyter, podemos criar um novo notebook pressionando o botão `New` e escolhendo o tipo de documento que desejamos criar. Vamos escolher a opção `Python 3` (`Figura 15`).<br><br>\n",
    "\n",
    "<img src=\"./img/jupyter-notebook-04.png\" alt=\"Criando um novo Jupyter Notebook.\" width=\"640\">\n",
    "<p style=\"text-align: center\">Figura 15 - Criando um novo Jupyter Notebook.</p>\n",
    "\n",
    "Uma nova aba do navegador será aberta como na `Figura 16`.<br><br>\n",
    "\n",
    "<img src=\"./img/jupyter-notebook-06.png\" alt=\"Novo Jupyter Notebook.\" width=\"640\">\n",
    "<p style=\"text-align: center\">Figura 16 - Novo Jupyter Notebook.</p>"
   ]
  },
  {
   "cell_type": "markdown",
   "metadata": {},
   "source": [
    "## 3.2 Editando Notebooks\n",
    "<hr style=\"border:0.25px solid #0077b9;\">\n",
    "\n",
    "Vamos trocar o nome do novo notebook, que por padrão possui o nome `Untitled`, para `meu-primeiro-notebook`. Isso pode ser feito clicando no nome `Untitled`, apresentado na parte superior esquerda da janela, próxima ao logo do Jupyter. Uma janela como a da `Figura 17` será aberta:<br><br>\n",
    "\n",
    "<img src=\"./img/jupyter-notebook-07.png\" alt=\"Trocando o nome de um Jupyter Notebook.\" width=\"640\">\n",
    "<p style=\"text-align: center\">Figura 17 - Trocando o nome de um Jupyter Notebook.</p>\n",
    "\n",
    "Esse novo documento é criado contendo por padrão uma única célula, onde podemos escrever um código Python, como mostrado na `Figura 18`.<br><br>\n",
    "\n",
    "<img src=\"./img/jupyter-notebook-09.png\" alt=\"Célula com código Python.\" width=\"640\">\n",
    "<p style=\"text-align: center\">Figura 18 - Célula com código Python.</p>"
   ]
  },
  {
   "cell_type": "markdown",
   "metadata": {},
   "source": [
    "Uma célula é uma caixa de texto multi-linha, cujo conteúdo pode ser executado pressionando-se `Shift-Enter` ou clicando no botão `Run` na barra de botões, ou através dos menus `Cell | Run` na barra de menus. A `Figura 19` mostra o resultado da execução dessa célula.<br><br>\n",
    "\n",
    "<img src=\"./img/jupyter-notebook-10.png\" alt=\"Resultado da execução da célula com código Python.\" width=\"640\">\n",
    "<p style=\"text-align: center\">Figura 19 - Resultado da execução da célula com código Python.</p>\n",
    "\n",
    "O tipo da célula irá determinar o comportamento da execução. Basicamente temos três tipos de células: células de código, células com textos formatados em Markdown, e células *raw*.\n",
    "\n",
    "Toda célula ao ser criada é definida como sendo do tipo código, podendo esse tipo ser alterado através da `drop-down list` na barra de botões ou através de teclas de atalho.\n",
    "\n",
    "Vamos adicionar uma nova célula, desta vez como uma célula contendo textos na notação Markdown. Como mostrado na `Figura 20`, essa sintaxe aceita trechos em HTML e LaTeX.<br><br>\n",
    "\n",
    "<img src=\"./img/jupyter-notebook-12.png\" alt=\"Célula com textos em Markdown.\" width=\"640\">\n",
    "<p style=\"text-align: center\">Figura 20 - Célula com textos em Markdown.</p>\n",
    "\n",
    "A execução de uma célula em Markdown irá gerar uma visualização em HTML, como mostrado na `Figura 21`.<br><br>\n",
    "\n",
    "<img src=\"./img/jupyter-notebook-13.png\" alt=\"Resultado da execução de uma célula com textos em Markdown.\" width=\"640\">\n",
    "<p style=\"text-align: center\">Figura 21 - Resultado da execução de uma célula com textos em Markdown.</p>\n",
    "\n",
    "**Atenção:** o código do notebook acima enontra-se disponível [aqui](meu-primeiro-notebook.ipynb)."
   ]
  },
  {
   "cell_type": "markdown",
   "metadata": {},
   "source": [
    "# 4. Comandos Mágicos\n",
    "<hr style=\"border:1px solid #0077b9;\">\n",
    "\n",
    "O IPython oferece a possibilidade de executar comandos do sistema operacional bem como alguns comandos específicos de dentro do seu terminal interativo. Esses comandos são chamados de *comandos mágicos* (ou *magic commands*). Também podemos usar esse recurso dentro dos notebooks.\n",
    "\n",
    "Basicamente, existem dois tipos de comandos mágicos: por *linha* (*line magics*) e por *célula* (*cell magics*).\n",
    "\n",
    "Os comandos de linha, em geral, são prefixados pelo caracter `%` e tratam todos os valores após o comando até o final da linha como argumentos.\n",
    "\n",
    "O comando `dir` abaixo ilustra este tipo de comando mágico. O `dir` recebe como argumentos os valores `*.ipynb` e `/B`, e produz uma listagem dos arquivos com a extensão `.ipynb`:"
   ]
  },
  {
   "cell_type": "code",
   "execution_count": 1,
   "metadata": {},
   "outputs": [
    {
     "name": "stdout",
     "output_type": "stream",
     "text": [
      "ipython-e-jupyter-notebooks.ipynb\n",
      "meu-primeiro-notebook.ipynb\n"
     ]
    }
   ],
   "source": [
    "!dir *.ipynb /B"
   ]
  },
  {
   "cell_type": "markdown",
   "metadata": {},
   "source": [
    "Podemos utilizar os resultados dos comandos mágicos, como mostrado abaixo, onde a listagem produzida pelo comando `dir` ficará associada à variável `saida`:"
   ]
  },
  {
   "cell_type": "code",
   "execution_count": 2,
   "metadata": {},
   "outputs": [
    {
     "name": "stdout",
     "output_type": "stream",
     "text": [
      "['.ipynb_checkpoints', 'exemplos', 'img', 'ipython-e-jupyter-notebooks.ipynb', 'meu-primeiro-notebook.ipynb']\n",
      "saida[1]:  exemplos\n"
     ]
    }
   ],
   "source": [
    "saida = !dir /B\n",
    "\n",
    "print( saida )\n",
    "\n",
    "print ( \"saida[1]: \", saida[1] )"
   ]
  },
  {
   "cell_type": "markdown",
   "metadata": {},
   "source": [
    "Podemos também passar valores de variáveis em Python para os comandos mágicos. Para isso, basta prefixar o nome dos objetos Python com o caracter `$` ou delimitá-los como `{}`. Exemplo:"
   ]
  },
  {
   "cell_type": "code",
   "execution_count": 3,
   "metadata": {},
   "outputs": [
    {
     "name": "stdout",
     "output_type": "stream",
     "text": [
      "---------\n",
      "aula12\n",
      "bdgeo\n",
      "geospatial\n",
      "neogeo\n",
      "ser347\n",
      "---------\n",
      "Chaves\n",
      "Devel\n",
      "OneDrive\n",
      "Program Files\n",
      "Program Files (x86)\n",
      "Qt\n",
      "ser347\n",
      "Users\n",
      "VirtualBox VMs\n"
     ]
    }
   ],
   "source": [
    "diretorios = [ \"D:\\\\Users\\\\gribeiro\\\\Anaconda3\\\\envs\", \"D:\\\\\" ]\n",
    "\n",
    "for d in diretorios:\n",
    "    print(\"---------\")\n",
    "    !dir $d /B"
   ]
  },
  {
   "cell_type": "markdown",
   "metadata": {},
   "source": [
    "ou, usando os nomes de objetos delimitados por `{}`:"
   ]
  },
  {
   "cell_type": "code",
   "execution_count": 4,
   "metadata": {},
   "outputs": [
    {
     "name": "stdout",
     "output_type": "stream",
     "text": [
      "---------\n",
      "aula12\n",
      "bdgeo\n",
      "geospatial\n",
      "neogeo\n",
      "ser347\n",
      "---------\n",
      "Chaves\n",
      "Devel\n",
      "OneDrive\n",
      "Program Files\n",
      "Program Files (x86)\n",
      "Qt\n",
      "ser347\n",
      "Users\n",
      "VirtualBox VMs\n"
     ]
    }
   ],
   "source": [
    "diretorios = [ \"D:\\\\Users\\\\gribeiro\\\\Anaconda3\\\\envs\", \"D:\\\\\" ]\n",
    "\n",
    "for d in diretorios:\n",
    "    print(\"---------\")\n",
    "    !dir {d} /B"
   ]
  },
  {
   "cell_type": "markdown",
   "metadata": {},
   "source": [
    "Os comandos de linha também podem ser utilizados sem o caracter `%`, como mostrado na `Figura 22`, onde o comando mágico [`logstart`](http://ipython.readthedocs.io/en/stable/interactive/reference.html#session-logging-and-restoring) é usado para ativar a escrita de um log para salvar a sessão de comandos utilizada no terminal interativo do IPython.<br><br>\n",
    "\n",
    "<img src=\"./img/ipython-07.png\" alt=\"Terminal Interativo IPython\" width=\"640\">\n",
    "<p style=\"text-align: center\">Figura 22 - Ativando o log no IPython.</p>\n",
    "\n",
    "O conteúdo do arquivo de log é mostrado na `Figura 23`. Tanto as entradas quanto as saídas são armazenadas nesse arquivo, além da data e hora de execução de cada comando na sessão.<br><br>\n",
    "\n",
    "<img src=\"./img/ipython-08.png\" alt=\"Terminal Interativo IPython\" width=\"640\">\n",
    "<p style=\"text-align: center\">Figura 23 - Documento de log gerado pela ativação do log.</p>"
   ]
  },
  {
   "cell_type": "markdown",
   "metadata": {},
   "source": [
    "O comandos mágicos por célula (*cell magics*) são prefixados por `%%` e funcionam como comandos que tomam como argumentos todos os valores seguinte na sua linha bem como das demais linhas da sua célula. Para ilustrar esse tipo de comando, vamos utilizar o comando `%%write` para escrever o conteúdo de uma célula para um arquivo:"
   ]
  },
  {
   "cell_type": "code",
   "execution_count": null,
   "metadata": {},
   "outputs": [],
   "source": [
    "%%writefile exemplos/fatorial.py\n",
    "\n",
    "n = int( input( \"Digite um número no intervalo [1, 10]: \" ) )\n",
    " \n",
    "if (n >= 1) and (n <= 10):\n",
    " \n",
    "    fat = 1\n",
    "    \n",
    "    while n > 1:\n",
    "        fat = fat * n\n",
    "        n = n - 1\n",
    " \n",
    "    print(\"fatorial:\", fat)\n",
    " \n",
    "else:\n",
    "    print(\"Número fora do intervalo [1, 10].\")\n",
    "    print(\"Rode o programa novamente!\")"
   ]
  },
  {
   "cell_type": "markdown",
   "metadata": {},
   "source": [
    "Outro comando mágico interessante consiste na inclusão de um vídeo dentro do notebook:"
   ]
  },
  {
   "cell_type": "code",
   "execution_count": 6,
   "metadata": {},
   "outputs": [
    {
     "data": {
      "text/html": [
       "\n",
       "<iframe width=\"800\" height=\"480\" src=\"https://www.youtube.com/embed/1NxnPkZM9bc\" frameborder=\"0\" allowfullscreen></iframe>"
      ],
      "text/plain": [
       "<IPython.core.display.HTML object>"
      ]
     },
     "metadata": {},
     "output_type": "display_data"
    }
   ],
   "source": [
    "%%HTML\n",
    "\n",
    "<iframe width=\"800\" height=\"480\" src=\"https://www.youtube.com/embed/1NxnPkZM9bc\" frameborder=\"0\" allowfullscreen></iframe>"
   ]
  },
  {
   "cell_type": "markdown",
   "metadata": {},
   "source": [
    "Para realizar a tomada de tempo de algum trecho de código Python, podemos usar o comando mágico `%%timeit`"
   ]
  },
  {
   "cell_type": "code",
   "execution_count": 7,
   "metadata": {},
   "outputs": [
    {
     "name": "stdout",
     "output_type": "stream",
     "text": [
      "94.3 ms ± 538 µs per loop (mean ± std. dev. of 7 runs, 10 loops each)\n"
     ]
    }
   ],
   "source": [
    "%%timeit\n",
    "\n",
    "lista = [x for x in range(1000000)]\n",
    "\n",
    "sum(lista)"
   ]
  },
  {
   "cell_type": "markdown",
   "metadata": {},
   "source": [
    "Para obter mais informações sobre o sistema de comandos mágicos, podemos usar `%magic`:"
   ]
  },
  {
   "cell_type": "code",
   "execution_count": null,
   "metadata": {},
   "outputs": [],
   "source": [
    "%magic"
   ]
  },
  {
   "cell_type": "markdown",
   "metadata": {},
   "source": [
    "Para obter informações sobre um determinado comando mágico, acrescente um caracter `?` ao nome do comando, como para o comando `load` abaixo:"
   ]
  },
  {
   "cell_type": "code",
   "execution_count": null,
   "metadata": {},
   "outputs": [],
   "source": [
    "%load?"
   ]
  },
  {
   "cell_type": "markdown",
   "metadata": {},
   "source": [
    "O comando `%load` permite que carreguemos um script para dentro de uma célula, como no exemplo abaixo:"
   ]
  },
  {
   "cell_type": "code",
   "execution_count": null,
   "metadata": {},
   "outputs": [],
   "source": [
    "%load exemplos/fibonacci.py"
   ]
  },
  {
   "cell_type": "markdown",
   "metadata": {},
   "source": [
    "Outro comando útil para uso no dia a dia é o `%run`, que permite executar qualquer script Python. No exemplo abaixo, usamos este comando para rodar o script da sequência de Fibonacci:"
   ]
  },
  {
   "cell_type": "code",
   "execution_count": null,
   "metadata": {},
   "outputs": [],
   "source": [
    "%run exemplos/fibonacci.py"
   ]
  },
  {
   "cell_type": "markdown",
   "metadata": {},
   "source": [
    "A lista completa de comandos mágicos pode ser obtida através do seguinte comando:"
   ]
  },
  {
   "cell_type": "code",
   "execution_count": 8,
   "metadata": {
    "scrolled": true
   },
   "outputs": [
    {
     "data": {
      "application/json": {
       "cell": {
        "!": "OSMagics",
        "HTML": "Other",
        "SVG": "Other",
        "bash": "Other",
        "capture": "ExecutionMagics",
        "cmd": "Other",
        "debug": "ExecutionMagics",
        "file": "Other",
        "html": "DisplayMagics",
        "javascript": "DisplayMagics",
        "js": "DisplayMagics",
        "latex": "DisplayMagics",
        "markdown": "DisplayMagics",
        "perl": "Other",
        "prun": "ExecutionMagics",
        "pypy": "Other",
        "python": "Other",
        "python2": "Other",
        "python3": "Other",
        "ruby": "Other",
        "script": "ScriptMagics",
        "sh": "Other",
        "svg": "DisplayMagics",
        "sx": "OSMagics",
        "system": "OSMagics",
        "time": "ExecutionMagics",
        "timeit": "ExecutionMagics",
        "writefile": "OSMagics"
       },
       "line": {
        "alias": "OSMagics",
        "alias_magic": "BasicMagics",
        "autocall": "AutoMagics",
        "automagic": "AutoMagics",
        "autosave": "KernelMagics",
        "bookmark": "OSMagics",
        "cd": "OSMagics",
        "clear": "KernelMagics",
        "cls": "KernelMagics",
        "colors": "BasicMagics",
        "config": "ConfigMagics",
        "connect_info": "KernelMagics",
        "copy": "Other",
        "ddir": "Other",
        "debug": "ExecutionMagics",
        "dhist": "OSMagics",
        "dirs": "OSMagics",
        "doctest_mode": "BasicMagics",
        "echo": "Other",
        "ed": "Other",
        "edit": "KernelMagics",
        "env": "OSMagics",
        "gui": "BasicMagics",
        "hist": "Other",
        "history": "HistoryMagics",
        "killbgscripts": "ScriptMagics",
        "ldir": "Other",
        "less": "KernelMagics",
        "load": "CodeMagics",
        "load_ext": "ExtensionMagics",
        "loadpy": "CodeMagics",
        "logoff": "LoggingMagics",
        "logon": "LoggingMagics",
        "logstart": "LoggingMagics",
        "logstate": "LoggingMagics",
        "logstop": "LoggingMagics",
        "ls": "Other",
        "lsmagic": "BasicMagics",
        "macro": "ExecutionMagics",
        "magic": "BasicMagics",
        "matplotlib": "PylabMagics",
        "mkdir": "Other",
        "more": "KernelMagics",
        "notebook": "BasicMagics",
        "page": "BasicMagics",
        "pastebin": "CodeMagics",
        "pdb": "ExecutionMagics",
        "pdef": "NamespaceMagics",
        "pdoc": "NamespaceMagics",
        "pfile": "NamespaceMagics",
        "pinfo": "NamespaceMagics",
        "pinfo2": "NamespaceMagics",
        "pip": "BasicMagics",
        "popd": "OSMagics",
        "pprint": "BasicMagics",
        "precision": "BasicMagics",
        "profile": "BasicMagics",
        "prun": "ExecutionMagics",
        "psearch": "NamespaceMagics",
        "psource": "NamespaceMagics",
        "pushd": "OSMagics",
        "pwd": "OSMagics",
        "pycat": "OSMagics",
        "pylab": "PylabMagics",
        "qtconsole": "KernelMagics",
        "quickref": "BasicMagics",
        "recall": "HistoryMagics",
        "rehashx": "OSMagics",
        "reload_ext": "ExtensionMagics",
        "ren": "Other",
        "rep": "Other",
        "rerun": "HistoryMagics",
        "reset": "NamespaceMagics",
        "reset_selective": "NamespaceMagics",
        "rmdir": "Other",
        "run": "ExecutionMagics",
        "save": "CodeMagics",
        "sc": "OSMagics",
        "set_env": "OSMagics",
        "store": "StoreMagics",
        "sx": "OSMagics",
        "system": "OSMagics",
        "tb": "ExecutionMagics",
        "time": "ExecutionMagics",
        "timeit": "ExecutionMagics",
        "unalias": "OSMagics",
        "unload_ext": "ExtensionMagics",
        "who": "NamespaceMagics",
        "who_ls": "NamespaceMagics",
        "whos": "NamespaceMagics",
        "xdel": "NamespaceMagics",
        "xmode": "BasicMagics"
       }
      },
      "text/plain": [
       "Available line magics:\n",
       "%alias  %alias_magic  %autocall  %automagic  %autosave  %bookmark  %cd  %clear  %cls  %colors  %config  %connect_info  %copy  %ddir  %debug  %dhist  %dirs  %doctest_mode  %echo  %ed  %edit  %env  %gui  %hist  %history  %killbgscripts  %ldir  %less  %load  %load_ext  %loadpy  %logoff  %logon  %logstart  %logstate  %logstop  %ls  %lsmagic  %macro  %magic  %matplotlib  %mkdir  %more  %notebook  %page  %pastebin  %pdb  %pdef  %pdoc  %pfile  %pinfo  %pinfo2  %popd  %pprint  %precision  %profile  %prun  %psearch  %psource  %pushd  %pwd  %pycat  %pylab  %qtconsole  %quickref  %recall  %rehashx  %reload_ext  %ren  %rep  %rerun  %reset  %reset_selective  %rmdir  %run  %save  %sc  %set_env  %store  %sx  %system  %tb  %time  %timeit  %unalias  %unload_ext  %who  %who_ls  %whos  %xdel  %xmode\n",
       "\n",
       "Available cell magics:\n",
       "%%!  %%HTML  %%SVG  %%bash  %%capture  %%cmd  %%debug  %%file  %%html  %%javascript  %%js  %%latex  %%markdown  %%perl  %%prun  %%pypy  %%python  %%python2  %%python3  %%ruby  %%script  %%sh  %%svg  %%sx  %%system  %%time  %%timeit  %%writefile\n",
       "\n",
       "Automagic is ON, % prefix IS NOT needed for line magics."
      ]
     },
     "execution_count": 8,
     "metadata": {},
     "output_type": "execute_result"
    }
   ],
   "source": [
    "%lsmagic"
   ]
  },
  {
   "cell_type": "markdown",
   "metadata": {},
   "source": [
    "# 5. Kernel\n",
    "<hr style=\"border:1px solid #0077b9;\">\n",
    "\n",
    "O código contido em um notebook é executado por um mecanismo chamado *kernel*. Por padrão, quando instalamos a  Anaconda com uma determinada versão do Python, como o `Python 3`, na lista de criação de novos notebooks, na janela principal (ou *Notebook Dashboard*), é apresentada a opção `Python 3`. Isto significa que existe um *kernel* para execução dos códigos de notebooks usando a linguagem Python.\n",
    "\n",
    "Esse *kernel* padrão encontra-se associado ao ambiente `base`(ou `root`), o que significa que os notebooks criados por esta opção poderão utilizar todos os pacotes disponíveis nesse ambiente.\n",
    "\n",
    "Quando você cria um novo ambiente virtual com a Anaconda, este ambiente não aparece automaticamente na lista dos possíveis tipos de notebooks a serem criados. Se usar o comando de gerenciamento das especificações de *kernel*, `jupyter kernelspec`, você verá que seu ambiente não se encontra na lista dos ambientes suportados pelos *kernels*  do Jupyter:\n",
    "```bash\n",
    "jupyter kernelspec list\n",
    "```\n",
    "\n",
    "Para registrar um ambiente criado pelo `conda` como um *notebook kernel*, para que você possa utilizar os pacotes instalados nesse ambiente, você precisa registrar o ambiente virtual como um *kernel* válido. Isto pode ser feito, ativando o ambiente virtual desejado e então rodando um comando `ipykernel` como mostrado abaixo, para o caso do ambiente geospatial:\n",
    "```bash\n",
    "conda activate geospatial\n",
    "\n",
    "python -m ipykernel install --user --name geospatial --display-name \"Python (geospatial)\"\n",
    "```\n",
    "\n",
    "Ao entrar novamente na janela do *Notebook Dashboard*, você deverá ter o nome `\"Python (geospatial)\"` listado nas opções de criação de um notebook. Isto significa que agora temos um kernel associado ao ambiente `geospatial`. Logo, todos os pacotes disponíveis nesse ambiente poderão ser usados dentro do notebook.\n",
    "\n",
    "Sempre que você criar um novo ambiente, instale também todo o suporte a Jupyter Notebook. Para isso, instale o pacote jupyter através do `conda` no ambiente ativo:\n",
    "```bash\n",
    "conda activate geospatial\n",
    "\n",
    "conda install jupyter\n",
    "```\n",
    "\n",
    "O comando acima, instala os pacotes `notebook` e `ipykernel`, necessários para execução do comando acima de registro de um ambiente virtual como um kernel.\n",
    "\n",
    "Para saber o caminho de todos os kernels registrados:\n",
    "```bash\n",
    "jupyter kernelspec list\n",
    "```\n",
    "\n",
    "Saída:\n",
    "```\n",
    "Available kernels:\n",
    "  geospatial    /Users/gribeiro/Library/Jupyter/kernels/geospatial\n",
    "  ir            /Users/gribeiro/Library/Jupyter/kernels/ir\n",
    "  ser347        /Users/gribeiro/Library/Jupyter/kernels/ser347\n",
    "  python3       /Users/gribeiro/anaconda3/share/jupyter/kernels/python3\n",
    "```\n",
    "  \n",
    "Para remover um kernel basta apagar o diretório dele ou fazer:\n",
    "```bash\n",
    "jupyter kernelspec uninstall ser347\n",
    "```\n",
    "\n",
    "No Windows, para saber o caminho de um executável:\n",
    "```bash\n",
    "where jupyter\n",
    "```\n",
    "ou\n",
    "```bash\n",
    "where python\n",
    "```\n",
    "\n",
    "No Linux e macOS:\n",
    "```bash\n",
    "which jupyter\n",
    "```\n",
    "ou\n",
    "```bash\n",
    "which python\n",
    "```"
   ]
  },
  {
   "cell_type": "markdown",
   "metadata": {},
   "source": [
    "# Considerações Finais\n",
    "<hr style=\"border:1px solid #0077b9;\">\n",
    "\n",
    "O IPython foi inicialmente criado por Fernando Pérez, como uma forma de suprir a necessidade dos cientistas de realizarem rapidamente a exploração de algoritmos, análise e visualização de dados, atividades importantes na rotina diária do trabalho científico. Para uma discussão aprodundada da motivação e do projeto IPython, consulte Pérez e Granger (2007).\n",
    "\n",
    "Os comandos mágicos podem ser estendidos, isto é, podemos criar nosso próprios comando e registrá-los no sistema do IPython.\n",
    "\n",
    "Através de comandos mágicos é possível integrarmos facilmente códigos em Python e R. Para maiores detalhes sobre esse assunto, veja o seguinte Jupyter Notebook: [The cell magics in Python](http://nbviewer.ipython.org/urls/raw.github.com/ipython/ipython/1.x/examples/notebooks/Cell%20Magics.ipynb).\n",
    "\n",
    "Existe uma grande galeria de Jupyter Notebooks disponível para estudo. Consulte [este site](https://github.com/jupyter/jupyter/wiki/a-gallery-of-interesting-jupyter-notebooks) para obter uma lista.\n",
    "\n",
    "Nas próximas aulas iremos utilizar Jupyter Notebooks para explorar alguns pacotes de Data Science, como NumPy, Matplotlib e Pandas, bem como a parte geoespacial através da GDAL e GeoPandas. Também usaremos esse recurso para mostrar como proveitar as ferramentas livres para controle de versionamento e compartilhar seu trabalho no GitHub."
   ]
  },
  {
   "cell_type": "markdown",
   "metadata": {},
   "source": [
    "# Referências Bibliográficas\n",
    "<hr style=\"border:1px solid #0077b9;\">\n",
    "\n",
    "- Ferando Pérez e Brian E. Granger. [IPython: A System for Interactive Scientific Computing](https://web.archive.org/web/20100602042637/http://fperez.org/papers/ipython07_pe-gr_cise.pdf). Computing in Science & Engineering, v. 9, n. 3, 2007, pp. 21-29.<br><br>\n",
    "\n",
    "- Fernando Perez. [The IPython notebook: a historical retrospective](http://blog.fperez.org/2012/01/ipython-notebook-historical.html). Acesso: 13 de Abril de 2018.<br><br>\n",
    "\n",
    "- [IPython Tutorial](http://ipython.readthedocs.io/en/stable/interactive/index.html). Acesso: 13 de Abril de 2018.<br><br>\n",
    "\n",
    "- [IPython Cookbook](https://github.com/ipython/ipython/wiki/Cookbook%3A-Index). Acesso: 13 de Abril de 2018.<br><br>\n",
    "\n",
    "- [IPython Tips & Tricks](http://ipython.readthedocs.io/en/stable/interactive/tips.html). Acesso: 13 de Abril de 2018.<br><br>\n",
    "\n",
    "- [The cell magics in IPython](http://nbviewer.ipython.org/urls/raw.github.com/ipython/ipython/1.x/examples/notebooks/Cell%20Magics.ipynb). Acesso: 13 de Abril de 2018.<br><br>\n",
    "\n",
    "- [The Jupyter notebook](https://jupyter-notebook.readthedocs.io/en/stable/). Acesso: 13 de Abril de 2018.<br><br>\n",
    "\n",
    "- [Jupyter/IPython Notebook Quick Start Guide](http://jupyter-notebook-beginner-guide.readthedocs.io/en/latest/index.html). Acesso: 13 de Abril de 2018.<br><br>\n",
    "\n",
    "- [A gallery of interesting Jupyter Notebooks](https://github.com/jupyter/jupyter/wiki/a-gallery-of-interesting-jupyter-notebooks). Acesso: 21 de Abril de 2018."
   ]
  }
 ],
 "metadata": {
  "kernelspec": {
   "display_name": "Python (ser347)",
   "language": "python",
   "name": "ser347"
  },
  "language_info": {
   "codemirror_mode": {
    "name": "ipython",
    "version": 3
   },
   "file_extension": ".py",
   "mimetype": "text/x-python",
   "name": "python",
   "nbconvert_exporter": "python",
   "pygments_lexer": "ipython3",
   "version": "3.6.5"
  }
 },
 "nbformat": 4,
 "nbformat_minor": 2
}
